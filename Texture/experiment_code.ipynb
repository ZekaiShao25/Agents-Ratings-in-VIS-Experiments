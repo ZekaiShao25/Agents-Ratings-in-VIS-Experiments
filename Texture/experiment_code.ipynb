{
 "cells": [
  {
   "cell_type": "markdown",
   "metadata": {},
   "source": [
    "# Texture"
   ]
  },
  {
   "cell_type": "code",
   "execution_count": null,
   "metadata": {},
   "outputs": [],
   "source": [
    "# please provide your OPENAI_KEY\n",
    "OPENAI_KEY = \"sk-<your-openai-key>\""
   ]
  },
  {
   "cell_type": "markdown",
   "metadata": {},
   "source": [
    "## Related Functions"
   ]
  },
  {
   "cell_type": "code",
   "execution_count": null,
   "metadata": {},
   "outputs": [],
   "source": [
    "from experiment import Logger\n",
    "import json\n",
    "import re\n",
    "import random\n",
    "import requests\n",
    "import base64\n",
    "\n",
    "def run_local_vision_request(text, image_urls, temperature=0):\n",
    "    # Function to encode the image\n",
    "    def encode_image(image_path):\n",
    "        with open(image_path, \"rb\") as image_file:\n",
    "            return base64.b64encode(image_file.read()).decode('utf-8')\n",
    "    api_key = OPENAI_KEY\n",
    "\n",
    "    messages = [\n",
    "        {\n",
    "            \"role\": \"user\",\n",
    "            \"content\": [{\"type\": \"text\", \"text\": text},\n",
    "            ]\n",
    "        }\n",
    "    ]\n",
    "\n",
    "    for image_path in image_urls:\n",
    "        # Getting the base64 string\n",
    "        base64_image = encode_image(image_path)\n",
    "        messages[0][\"content\"].append({\n",
    "            \"image_url\": f\"data:image/jpeg;base64,{base64_image}\"\n",
    "        })\n",
    "\n",
    "    headers = {\n",
    "    \"Content-Type\": \"application/json\",\n",
    "    \"Authorization\": f\"Bearer {api_key}\"\n",
    "    }\n",
    "\n",
    "    payload = {\n",
    "        \"model\": \"gpt-4-vision-preview\",\n",
    "        \"messages\": messages,\n",
    "        \"max_tokens\": 2048,\n",
    "        \"temperature\": temperature,\n",
    "    }\n",
    "\n",
    "    response = requests.post(\"https://api.openai.com/v1/chat/completions\", headers=headers, json=payload)\n",
    "    return response.json()\n",
    "\n",
    "def run_test(name, description, prompt, image_urls, logger, times=1):\n",
    "    reason_list = []\n",
    "    score_list = []\n",
    "    while len(score_list) < times:\n",
    "        shuffled_list = image_urls.copy()\n",
    "        random.shuffle(shuffled_list)\n",
    "        index = [image_urls.index(x) for x in shuffled_list]\n",
    "        try:\n",
    "            response = run_local_vision_request(\n",
    "                text=prompt, \n",
    "                image_urls=shuffled_list,\n",
    "            )\n",
    "            matched_content = re.search(r'```json([\\s\\S]*?)```', response[\"choices\"][0][\"message\"][\"content\"])\n",
    "            response_list = json.loads(matched_content.group(1))\n",
    "            score = sorted(response_list, key=lambda x: index[response_list.index(x)])\n",
    "            reason_list.append(response[\"choices\"][0][\"message\"][\"content\"])\n",
    "            score_list.append(sorted(response_list, key=lambda x: index[response_list.index(x)]))\n",
    "            logger.log(name, description, prompt, shuffled_list, response[\"choices\"][0][\"message\"][\"content\"], score)\n",
    "        except Exception as e:\n",
    "            print(e)\n",
    "    return reason_list\n",
    "\n",
    "class Logger:\n",
    "    def __init__(self, file_path):\n",
    "        self.file_path = file_path\n",
    "        \n",
    "    def log(self, name, description, prompt, image_urls, response, score):\n",
    "        json_data_to_add = {\"name\": name, \"description\": description, \"prompt\": prompt, \"image_urls\": image_urls, \"response\": response, \"score\": score}\n",
    "\n",
    "        with open(self.file_path, 'r') as file:\n",
    "            data = json.load(file)\n",
    "\n",
    "        data.append(json_data_to_add)\n",
    "\n",
    "        with open(self.file_path, 'w') as file:\n",
    "            json.dump(data, file, indent=4)\n",
    "logger = Logger(\"./texture.json\")"
   ]
  },
  {
   "cell_type": "markdown",
   "metadata": {},
   "source": [
    "## Experiment aesthetic"
   ]
  },
  {
   "cell_type": "markdown",
   "metadata": {},
   "source": [
    "### Prompt Preparation"
   ]
  },
  {
   "cell_type": "code",
   "execution_count": null,
   "metadata": {},
   "outputs": [],
   "source": [
    "ROLE = \"You are an average user. \"\n",
    "TASK = \"You are an average user. You need to rate the aesthetics of each visualization with iconic textures using a 7-point Likert scale via the 5 items of the BeauVis scale. BeauVis scale consists of five items, 'enjoyable', 'likable', 'pleasing', 'nice' and 'appealing'. And you also added 1 item to assess the degree to which they perceived a vibratory effect (Also using a 7-point Likert scale). Vibratory effect is an optical illusion making patterns seem unstable, linked to the Moiré effect. Then you also need to rank the four visualizations you have just evaluated based on your overall preference. You need to give the ranking of each image in order (1, 2, 3, ...).\"\n",
    "JSON_FORMAT = 'Please give an additional scoring result in json format at the end of your answe, like ```json[{{\"enjoyable\": score, \"likable\": score, \"pleasing\": score, \"nice\": score, \"appealing\": score, \"vibratory_effect\": score, \"rank\": rank }}, ...]```. '"
   ]
  },
  {
   "cell_type": "markdown",
   "metadata": {},
   "source": [
    "### Data Preparation"
   ]
  },
  {
   "cell_type": "code",
   "execution_count": null,
   "metadata": {},
   "outputs": [],
   "source": [
    "file_path = \"./experiment_material/supp_materials/Experiment2/stimuli/\"\n",
    "type_list = [\"BG\", \"BI\", \"MG\", \"MI\", \"PG\", \"PI\"]\n",
    "index_list = [\"1\", \"2\", \"3\", \"4\"]"
   ]
  },
  {
   "cell_type": "markdown",
   "metadata": {},
   "source": [
    "### Task Execution"
   ]
  },
  {
   "cell_type": "code",
   "execution_count": null,
   "metadata": {},
   "outputs": [],
   "source": [
    "name = \"texture_experiment_aesthetic\"\n",
    "for _type in type_list:\n",
    "    image_urls = [file_path + _type + index + \".png\" for index in index_list]\n",
    "    description = _type\n",
    "    prompt = ROLE + \\\n",
    "        TASK + \\\n",
    "        JSON_FORMAT + \\\n",
    "        \"DON'T say sorry or you cannot. YOU CAN.\"\n",
    "    run_test(\n",
    "        name=name,\n",
    "        description=description,\n",
    "        prompt=prompt,\n",
    "        image_urls=image_urls,\n",
    "        logger=logger,\n",
    "        times=5)"
   ]
  },
  {
   "cell_type": "markdown",
   "metadata": {},
   "source": [
    "## Experiment readable"
   ]
  },
  {
   "cell_type": "markdown",
   "metadata": {},
   "source": [
    "### Prompt Preparation"
   ]
  },
  {
   "cell_type": "code",
   "execution_count": null,
   "metadata": {},
   "outputs": [],
   "source": [
    "ROLE = \"You are an average user. \"\n",
    "TASK = \"Describe three visualizations with unicolor, geometric, and iconic textures. You need to rate the 5 items of the BeauVis scale and an additional readability item on a 7-point Likert scale. BeauVis scale consists of five items, 'enjoyable', 'likable', 'pleasing', 'nice' and 'appealing'. \"\n",
    "JSON_FORMAT = 'Please give an additional scoring result in json format at the end of your answe, like ```json[{{\"enjoyable\": score, \"likable\": score, \"pleasing\": score, \"nice\": score, \"appealing\": score, \"readability\": score}}, ...]```. '"
   ]
  },
  {
   "cell_type": "markdown",
   "metadata": {},
   "source": [
    "### Data Preparation"
   ]
  },
  {
   "cell_type": "code",
   "execution_count": null,
   "metadata": {},
   "outputs": [],
   "source": [
    "file_path = \"./experiment_material/supp_materials/Experiment3/stimuli/\"\n",
    "vis_list = [\"bar\", \"pie\"]\n",
    "type_list = [\"color\", \"geo\", \"icon\"]\n",
    "index_list = [\"1\", \"2\", \"3\", \"4\", \"5\", \"6\", \"7\", \"8\", \"9\"]"
   ]
  },
  {
   "cell_type": "markdown",
   "metadata": {},
   "source": [
    "### Task Execution"
   ]
  },
  {
   "cell_type": "code",
   "execution_count": null,
   "metadata": {},
   "outputs": [],
   "source": [
    "name = \"texture_experiment_readable\"\n",
    "for vis in vis_list:\n",
    "    for index in index_list:\n",
    "        image_urls = [file_path + vis + \"_\" + _type + index + \".png\" for _type in type_list]\n",
    "        description = \"parallel_experiment_\" + vis\n",
    "        prompt = ROLE + \\\n",
    "            TASK + \\\n",
    "            JSON_FORMAT + \\\n",
    "            \"DON'T say sorry or you cannot. YOU CAN.\"\n",
    "        run_test(\n",
    "            name=name,\n",
    "            description=description,\n",
    "            prompt=prompt,\n",
    "            image_urls=image_urls,\n",
    "            logger=logger,\n",
    "            times=5)"
   ]
  }
 ],
 "metadata": {
  "kernelspec": {
   "display_name": "paperqa_env",
   "language": "python",
   "name": "python3"
  },
  "language_info": {
   "codemirror_mode": {
    "name": "ipython",
    "version": 3
   },
   "file_extension": ".py",
   "mimetype": "text/x-python",
   "name": "python",
   "nbconvert_exporter": "python",
   "pygments_lexer": "ipython3",
   "version": "3.11.3"
  }
 },
 "nbformat": 4,
 "nbformat_minor": 2
}
